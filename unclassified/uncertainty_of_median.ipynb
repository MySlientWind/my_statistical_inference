{
 "cells": [
  {
   "cell_type": "code",
   "execution_count": 1,
   "metadata": {},
   "outputs": [],
   "source": [
    "import numpy as np\n",
    "from scipy import stats\n",
    "import matplotlib.pyplot as plt\n",
    "from sklearn.neighbors import KernelDensity"
   ]
  },
  {
   "cell_type": "markdown",
   "metadata": {},
   "source": [
    "https://stats.stackexchange.com/questions/45124/central-limit-theorem-for-sample-medians"
   ]
  },
  {
   "cell_type": "markdown",
   "metadata": {},
   "source": [
    "For continuous distributions, the uncertainty of the median is given by:\n",
    "$$\n",
    "\\sigma_{\\hat{m}}=\\frac{1}{2f_x(m)\\sqrt{n}}\n",
    "$$"
   ]
  },
  {
   "cell_type": "code",
   "execution_count": 2,
   "metadata": {},
   "outputs": [],
   "source": [
    "def get_median_err(x, m, N, **kde_kwargs):\n",
    "    kde = KernelDensity(**kde_kwargs).fit(x.reshape(-1, 1))\n",
    "    fm = np.exp(kde.score_samples(np.array([[m]])))\n",
    "    return 1/(2 * fm * np.sqrt(N))[0]"
   ]
  },
  {
   "cell_type": "code",
   "execution_count": 3,
   "metadata": {},
   "outputs": [],
   "source": [
    "mean_list = []\n",
    "median_list = []\n",
    "for _ in range(1000):\n",
    "    x = stats.norm.rvs(0, 1, 10000)\n",
    "    mean_list.append(np.mean(x))\n",
    "    median_list.append(np.median(x))"
   ]
  },
  {
   "cell_type": "code",
   "execution_count": 7,
   "metadata": {},
   "outputs": [
    {
     "name": "stdout",
     "output_type": "stream",
     "text": [
      "The uncertainty given by theory: 0.012533141373155003\n",
      "The uncertainty given by KDE based estimator: 0.012582938902481454\n",
      "The uncertainty given by ensemble: 0.012460584340477929\n"
     ]
    }
   ],
   "source": [
    "# median\n",
    "print(\"The uncertainty given by theory:\", 1/(2 * stats.norm.pdf(0) * np.sqrt(10000)))\n",
    "\n",
    "print(\"The uncertainty given by KDE based estimator:\", get_median_err(x, np.median(x), 10000, bandwidth=0.1))\n",
    "\n",
    "print(\"The uncertainty given by ensemble:\", np.std(median_list))"
   ]
  },
  {
   "cell_type": "code",
   "execution_count": 8,
   "metadata": {},
   "outputs": [
    {
     "name": "stdout",
     "output_type": "stream",
     "text": [
      "The uncertainty given by theory: 0.01\n",
      "The uncertainty given by ensemble: 0.01000972001778147\n"
     ]
    }
   ],
   "source": [
    "# mean\n",
    "print(\"The uncertainty given by theory:\", 1/(np.sqrt(10000)))\n",
    "\n",
    "print(\"The uncertainty given by ensemble:\", np.std(mean_list))"
   ]
  }
 ],
 "metadata": {
  "kernelspec": {
   "display_name": "base",
   "language": "python",
   "name": "python3"
  },
  "language_info": {
   "codemirror_mode": {
    "name": "ipython",
    "version": 3
   },
   "file_extension": ".py",
   "mimetype": "text/x-python",
   "name": "python",
   "nbconvert_exporter": "python",
   "pygments_lexer": "ipython3",
   "version": "3.9.18"
  },
  "orig_nbformat": 4,
  "vscode": {
   "interpreter": {
    "hash": "aa3d8610ca5186d73034a235379e9e44a2d47f3801beb7600c167bd7431046c1"
   }
  }
 },
 "nbformat": 4,
 "nbformat_minor": 2
}
